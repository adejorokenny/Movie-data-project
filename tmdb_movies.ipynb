{
 "cells": [
  {
   "cell_type": "markdown",
   "id": "35907e16",
   "metadata": {},
   "source": [
    " \n",
    "# PROJECT: THE MOVIE DATABASE\n",
    "\n",
    "## BY: ADEJORO KEHINDE\n",
    "\n",
    "## Table of Contents\n",
    "\n",
    "<ul>\n",
    "<li><a href=\"#intro\">Introduction</a></li>\n",
    "<li><a href=\"#wrangling\">Data Wrangling</a></li>  \n",
    "<li><a href=\"#eda\">Exploratory Data Analysis</a></li>\n",
    "<li><a href=\"#conclussions\">Conclussions</a></li>\n",
    "</ul>"
   ]
  },
  {
   "cell_type": "markdown",
   "id": "75a316fd",
   "metadata": {},
   "source": [
    "\n",
    "# Introduction\n",
    "\n",
    "In this project, I will be analysing a dataset containing information on movies. The dataset contains information about over 10,000 movies ranging from year 1960 to 2015.\n",
    "\n",
    "### Objective of project\n",
    "Describe the trends of some the dataset features, and also examine the relationship between the revenue feature of the dataset and other features such as budget, vote count, release year, popularity and runtime using correlation matrix.\n",
    "\n",
    "\n",
    "### Specific objectives of the project work\n",
    "The specific objectives of this project are to\n",
    "\n",
    "1. Find out which year has the highest number of movies released?;\n",
    "2. list the top 10 movie genres with highest vote count;\n",
    "3. list the top 10 directors with highest number of movie titles;\n",
    "4. list the top 10 genres with highest revenue;\n",
    "5. find the the top 10 movies with highest revenue; and\n",
    "6. examine the relationship between the revenue feature of the dataset and some other features such as vote count, popularity, budget, run time and release year using the correlation matrix."
   ]
  },
  {
   "cell_type": "markdown",
   "id": "03eb2a21",
   "metadata": {},
   "source": [
    "### Importing the packages required for the analysis"
   ]
  },
  {
   "cell_type": "code",
   "execution_count": 1,
   "id": "3d78ed3e",
   "metadata": {},
   "outputs": [],
   "source": [
    "import pandas as pd\n",
    "import numpy as np\n",
    "import matplotlib.pyplot as plt\n",
    "%matplotlib inline\n",
    "import seaborn as sns"
   ]
  },
  {
   "cell_type": "markdown",
   "id": "af207956",
   "metadata": {},
   "source": [
    "# Data Wrangling"
   ]
  },
  {
   "cell_type": "markdown",
   "id": "bca0917f",
   "metadata": {},
   "source": [
    "### Importing and naming the dataset"
   ]
  },
  {
   "cell_type": "code",
   "execution_count": 2,
   "id": "3335940d",
   "metadata": {},
   "outputs": [],
   "source": [
    "data = pd.read_csv('tmdb-movies.csv')"
   ]
  },
  {
   "cell_type": "markdown",
   "id": "c58f6b43",
   "metadata": {},
   "source": [
    "We imported our dataset in the above line of code and we named it 'data'."
   ]
  },
  {
   "cell_type": "markdown",
   "id": "e4a699b5",
   "metadata": {},
   "source": [
    "### Viewing the first five columns of the dataset"
   ]
  },
  {
   "cell_type": "code",
   "execution_count": 3,
   "id": "7d4ea31b",
   "metadata": {},
   "outputs": [
    {
     "data": {
      "text/html": [
       "<div>\n",
       "<style scoped>\n",
       "    .dataframe tbody tr th:only-of-type {\n",
       "        vertical-align: middle;\n",
       "    }\n",
       "\n",
       "    .dataframe tbody tr th {\n",
       "        vertical-align: top;\n",
       "    }\n",
       "\n",
       "    .dataframe thead th {\n",
       "        text-align: right;\n",
       "    }\n",
       "</style>\n",
       "<table border=\"1\" class=\"dataframe\">\n",
       "  <thead>\n",
       "    <tr style=\"text-align: right;\">\n",
       "      <th></th>\n",
       "      <th>id</th>\n",
       "      <th>imdb_id</th>\n",
       "      <th>popularity</th>\n",
       "      <th>budget</th>\n",
       "      <th>revenue</th>\n",
       "      <th>original_title</th>\n",
       "      <th>cast</th>\n",
       "      <th>homepage</th>\n",
       "      <th>director</th>\n",
       "      <th>tagline</th>\n",
       "      <th>...</th>\n",
       "      <th>overview</th>\n",
       "      <th>runtime</th>\n",
       "      <th>genres</th>\n",
       "      <th>production_companies</th>\n",
       "      <th>release_date</th>\n",
       "      <th>vote_count</th>\n",
       "      <th>vote_average</th>\n",
       "      <th>release_year</th>\n",
       "      <th>budget_adj</th>\n",
       "      <th>revenue_adj</th>\n",
       "    </tr>\n",
       "  </thead>\n",
       "  <tbody>\n",
       "    <tr>\n",
       "      <th>0</th>\n",
       "      <td>135397</td>\n",
       "      <td>tt0369610</td>\n",
       "      <td>32.985763</td>\n",
       "      <td>150000000</td>\n",
       "      <td>1513528810</td>\n",
       "      <td>Jurassic World</td>\n",
       "      <td>Chris Pratt|Bryce Dallas Howard|Irrfan Khan|Vi...</td>\n",
       "      <td>http://www.jurassicworld.com/</td>\n",
       "      <td>Colin Trevorrow</td>\n",
       "      <td>The park is open.</td>\n",
       "      <td>...</td>\n",
       "      <td>Twenty-two years after the events of Jurassic ...</td>\n",
       "      <td>124</td>\n",
       "      <td>Action|Adventure|Science Fiction|Thriller</td>\n",
       "      <td>Universal Studios|Amblin Entertainment|Legenda...</td>\n",
       "      <td>6/9/2015</td>\n",
       "      <td>5562</td>\n",
       "      <td>6.5</td>\n",
       "      <td>2015</td>\n",
       "      <td>137999939.3</td>\n",
       "      <td>1.392446e+09</td>\n",
       "    </tr>\n",
       "    <tr>\n",
       "      <th>1</th>\n",
       "      <td>76341</td>\n",
       "      <td>tt1392190</td>\n",
       "      <td>28.419936</td>\n",
       "      <td>150000000</td>\n",
       "      <td>378436354</td>\n",
       "      <td>Mad Max: Fury Road</td>\n",
       "      <td>Tom Hardy|Charlize Theron|Hugh Keays-Byrne|Nic...</td>\n",
       "      <td>http://www.madmaxmovie.com/</td>\n",
       "      <td>George Miller</td>\n",
       "      <td>What a Lovely Day.</td>\n",
       "      <td>...</td>\n",
       "      <td>An apocalyptic story set in the furthest reach...</td>\n",
       "      <td>120</td>\n",
       "      <td>Action|Adventure|Science Fiction|Thriller</td>\n",
       "      <td>Village Roadshow Pictures|Kennedy Miller Produ...</td>\n",
       "      <td>5/13/2015</td>\n",
       "      <td>6185</td>\n",
       "      <td>7.1</td>\n",
       "      <td>2015</td>\n",
       "      <td>137999939.3</td>\n",
       "      <td>3.481613e+08</td>\n",
       "    </tr>\n",
       "    <tr>\n",
       "      <th>2</th>\n",
       "      <td>262500</td>\n",
       "      <td>tt2908446</td>\n",
       "      <td>13.112507</td>\n",
       "      <td>110000000</td>\n",
       "      <td>295238201</td>\n",
       "      <td>Insurgent</td>\n",
       "      <td>Shailene Woodley|Theo James|Kate Winslet|Ansel...</td>\n",
       "      <td>http://www.thedivergentseries.movie/#insurgent</td>\n",
       "      <td>Robert Schwentke</td>\n",
       "      <td>One Choice Can Destroy You</td>\n",
       "      <td>...</td>\n",
       "      <td>Beatrice Prior must confront her inner demons ...</td>\n",
       "      <td>119</td>\n",
       "      <td>Adventure|Science Fiction|Thriller</td>\n",
       "      <td>Summit Entertainment|Mandeville Films|Red Wago...</td>\n",
       "      <td>3/18/2015</td>\n",
       "      <td>2480</td>\n",
       "      <td>6.3</td>\n",
       "      <td>2015</td>\n",
       "      <td>101199955.5</td>\n",
       "      <td>2.716190e+08</td>\n",
       "    </tr>\n",
       "    <tr>\n",
       "      <th>3</th>\n",
       "      <td>140607</td>\n",
       "      <td>tt2488496</td>\n",
       "      <td>11.173104</td>\n",
       "      <td>200000000</td>\n",
       "      <td>2068178225</td>\n",
       "      <td>Star Wars: The Force Awakens</td>\n",
       "      <td>Harrison Ford|Mark Hamill|Carrie Fisher|Adam D...</td>\n",
       "      <td>http://www.starwars.com/films/star-wars-episod...</td>\n",
       "      <td>J.J. Abrams</td>\n",
       "      <td>Every generation has a story.</td>\n",
       "      <td>...</td>\n",
       "      <td>Thirty years after defeating the Galactic Empi...</td>\n",
       "      <td>136</td>\n",
       "      <td>Action|Adventure|Science Fiction|Fantasy</td>\n",
       "      <td>Lucasfilm|Truenorth Productions|Bad Robot</td>\n",
       "      <td>12/15/2015</td>\n",
       "      <td>5292</td>\n",
       "      <td>7.5</td>\n",
       "      <td>2015</td>\n",
       "      <td>183999919.0</td>\n",
       "      <td>1.902723e+09</td>\n",
       "    </tr>\n",
       "    <tr>\n",
       "      <th>4</th>\n",
       "      <td>168259</td>\n",
       "      <td>tt2820852</td>\n",
       "      <td>9.335014</td>\n",
       "      <td>190000000</td>\n",
       "      <td>1506249360</td>\n",
       "      <td>Furious 7</td>\n",
       "      <td>Vin Diesel|Paul Walker|Jason Statham|Michelle ...</td>\n",
       "      <td>http://www.furious7.com/</td>\n",
       "      <td>James Wan</td>\n",
       "      <td>Vengeance Hits Home</td>\n",
       "      <td>...</td>\n",
       "      <td>Deckard Shaw seeks revenge against Dominic Tor...</td>\n",
       "      <td>137</td>\n",
       "      <td>Action|Crime|Thriller</td>\n",
       "      <td>Universal Pictures|Original Film|Media Rights ...</td>\n",
       "      <td>4/1/2015</td>\n",
       "      <td>2947</td>\n",
       "      <td>7.3</td>\n",
       "      <td>2015</td>\n",
       "      <td>174799923.1</td>\n",
       "      <td>1.385749e+09</td>\n",
       "    </tr>\n",
       "  </tbody>\n",
       "</table>\n",
       "<p>5 rows × 21 columns</p>\n",
       "</div>"
      ],
      "text/plain": [
       "       id    imdb_id  popularity     budget     revenue  \\\n",
       "0  135397  tt0369610   32.985763  150000000  1513528810   \n",
       "1   76341  tt1392190   28.419936  150000000   378436354   \n",
       "2  262500  tt2908446   13.112507  110000000   295238201   \n",
       "3  140607  tt2488496   11.173104  200000000  2068178225   \n",
       "4  168259  tt2820852    9.335014  190000000  1506249360   \n",
       "\n",
       "                 original_title  \\\n",
       "0                Jurassic World   \n",
       "1            Mad Max: Fury Road   \n",
       "2                     Insurgent   \n",
       "3  Star Wars: The Force Awakens   \n",
       "4                     Furious 7   \n",
       "\n",
       "                                                cast  \\\n",
       "0  Chris Pratt|Bryce Dallas Howard|Irrfan Khan|Vi...   \n",
       "1  Tom Hardy|Charlize Theron|Hugh Keays-Byrne|Nic...   \n",
       "2  Shailene Woodley|Theo James|Kate Winslet|Ansel...   \n",
       "3  Harrison Ford|Mark Hamill|Carrie Fisher|Adam D...   \n",
       "4  Vin Diesel|Paul Walker|Jason Statham|Michelle ...   \n",
       "\n",
       "                                            homepage          director  \\\n",
       "0                      http://www.jurassicworld.com/   Colin Trevorrow   \n",
       "1                        http://www.madmaxmovie.com/     George Miller   \n",
       "2     http://www.thedivergentseries.movie/#insurgent  Robert Schwentke   \n",
       "3  http://www.starwars.com/films/star-wars-episod...       J.J. Abrams   \n",
       "4                           http://www.furious7.com/         James Wan   \n",
       "\n",
       "                         tagline  ...  \\\n",
       "0              The park is open.  ...   \n",
       "1             What a Lovely Day.  ...   \n",
       "2     One Choice Can Destroy You  ...   \n",
       "3  Every generation has a story.  ...   \n",
       "4            Vengeance Hits Home  ...   \n",
       "\n",
       "                                            overview runtime  \\\n",
       "0  Twenty-two years after the events of Jurassic ...     124   \n",
       "1  An apocalyptic story set in the furthest reach...     120   \n",
       "2  Beatrice Prior must confront her inner demons ...     119   \n",
       "3  Thirty years after defeating the Galactic Empi...     136   \n",
       "4  Deckard Shaw seeks revenge against Dominic Tor...     137   \n",
       "\n",
       "                                      genres  \\\n",
       "0  Action|Adventure|Science Fiction|Thriller   \n",
       "1  Action|Adventure|Science Fiction|Thriller   \n",
       "2         Adventure|Science Fiction|Thriller   \n",
       "3   Action|Adventure|Science Fiction|Fantasy   \n",
       "4                      Action|Crime|Thriller   \n",
       "\n",
       "                                production_companies release_date vote_count  \\\n",
       "0  Universal Studios|Amblin Entertainment|Legenda...     6/9/2015       5562   \n",
       "1  Village Roadshow Pictures|Kennedy Miller Produ...    5/13/2015       6185   \n",
       "2  Summit Entertainment|Mandeville Films|Red Wago...    3/18/2015       2480   \n",
       "3          Lucasfilm|Truenorth Productions|Bad Robot   12/15/2015       5292   \n",
       "4  Universal Pictures|Original Film|Media Rights ...     4/1/2015       2947   \n",
       "\n",
       "   vote_average  release_year   budget_adj   revenue_adj  \n",
       "0           6.5          2015  137999939.3  1.392446e+09  \n",
       "1           7.1          2015  137999939.3  3.481613e+08  \n",
       "2           6.3          2015  101199955.5  2.716190e+08  \n",
       "3           7.5          2015  183999919.0  1.902723e+09  \n",
       "4           7.3          2015  174799923.1  1.385749e+09  \n",
       "\n",
       "[5 rows x 21 columns]"
      ]
     },
     "execution_count": 3,
     "metadata": {},
     "output_type": "execute_result"
    }
   ],
   "source": [
    "data.head()"
   ]
  },
  {
   "cell_type": "markdown",
   "id": "963169ea",
   "metadata": {},
   "source": [
    "The data.head() gives us the first five columns of the dataset."
   ]
  },
  {
   "cell_type": "markdown",
   "id": "cba418c2",
   "metadata": {},
   "source": [
    "### Viewing the shape of the dataset"
   ]
  },
  {
   "cell_type": "code",
   "execution_count": 4,
   "id": "01b263fb",
   "metadata": {},
   "outputs": [
    {
     "data": {
      "text/plain": [
       "(10866, 21)"
      ]
     },
     "execution_count": 4,
     "metadata": {},
     "output_type": "execute_result"
    }
   ],
   "source": [
    "data.shape"
   ]
  },
  {
   "cell_type": "markdown",
   "id": "4c347b4e",
   "metadata": {},
   "source": [
    "This dataset contains information on 10,866 movies. \n",
    "The data has 10,866 rows and 21 columns."
   ]
  },
  {
   "cell_type": "code",
   "execution_count": null,
   "id": "30f01950",
   "metadata": {},
   "outputs": [],
   "source": []
  },
  {
   "cell_type": "markdown",
   "id": "2b6f24d2",
   "metadata": {},
   "source": [
    "### Summary Statistics of the dataset"
   ]
  },
  {
   "cell_type": "code",
   "execution_count": 5,
   "id": "9859f030",
   "metadata": {},
   "outputs": [
    {
     "data": {
      "text/html": [
       "<div>\n",
       "<style scoped>\n",
       "    .dataframe tbody tr th:only-of-type {\n",
       "        vertical-align: middle;\n",
       "    }\n",
       "\n",
       "    .dataframe tbody tr th {\n",
       "        vertical-align: top;\n",
       "    }\n",
       "\n",
       "    .dataframe thead th {\n",
       "        text-align: right;\n",
       "    }\n",
       "</style>\n",
       "<table border=\"1\" class=\"dataframe\">\n",
       "  <thead>\n",
       "    <tr style=\"text-align: right;\">\n",
       "      <th></th>\n",
       "      <th>id</th>\n",
       "      <th>popularity</th>\n",
       "      <th>budget</th>\n",
       "      <th>revenue</th>\n",
       "      <th>runtime</th>\n",
       "      <th>vote_count</th>\n",
       "      <th>vote_average</th>\n",
       "      <th>release_year</th>\n",
       "      <th>budget_adj</th>\n",
       "      <th>revenue_adj</th>\n",
       "    </tr>\n",
       "  </thead>\n",
       "  <tbody>\n",
       "    <tr>\n",
       "      <th>count</th>\n",
       "      <td>10866.000000</td>\n",
       "      <td>10866.000000</td>\n",
       "      <td>1.086600e+04</td>\n",
       "      <td>1.086600e+04</td>\n",
       "      <td>10866.000000</td>\n",
       "      <td>10866.000000</td>\n",
       "      <td>10866.000000</td>\n",
       "      <td>10866.000000</td>\n",
       "      <td>1.086600e+04</td>\n",
       "      <td>1.086600e+04</td>\n",
       "    </tr>\n",
       "    <tr>\n",
       "      <th>mean</th>\n",
       "      <td>66064.177434</td>\n",
       "      <td>0.646441</td>\n",
       "      <td>1.462570e+07</td>\n",
       "      <td>3.982332e+07</td>\n",
       "      <td>102.070863</td>\n",
       "      <td>217.389748</td>\n",
       "      <td>5.974922</td>\n",
       "      <td>2001.322658</td>\n",
       "      <td>1.755104e+07</td>\n",
       "      <td>5.136436e+07</td>\n",
       "    </tr>\n",
       "    <tr>\n",
       "      <th>std</th>\n",
       "      <td>92130.136561</td>\n",
       "      <td>1.000185</td>\n",
       "      <td>3.091321e+07</td>\n",
       "      <td>1.170035e+08</td>\n",
       "      <td>31.381405</td>\n",
       "      <td>575.619058</td>\n",
       "      <td>0.935142</td>\n",
       "      <td>12.812941</td>\n",
       "      <td>3.430616e+07</td>\n",
       "      <td>1.446325e+08</td>\n",
       "    </tr>\n",
       "    <tr>\n",
       "      <th>min</th>\n",
       "      <td>5.000000</td>\n",
       "      <td>0.000065</td>\n",
       "      <td>0.000000e+00</td>\n",
       "      <td>0.000000e+00</td>\n",
       "      <td>0.000000</td>\n",
       "      <td>10.000000</td>\n",
       "      <td>1.500000</td>\n",
       "      <td>1960.000000</td>\n",
       "      <td>0.000000e+00</td>\n",
       "      <td>0.000000e+00</td>\n",
       "    </tr>\n",
       "    <tr>\n",
       "      <th>25%</th>\n",
       "      <td>10596.250000</td>\n",
       "      <td>0.207583</td>\n",
       "      <td>0.000000e+00</td>\n",
       "      <td>0.000000e+00</td>\n",
       "      <td>90.000000</td>\n",
       "      <td>17.000000</td>\n",
       "      <td>5.400000</td>\n",
       "      <td>1995.000000</td>\n",
       "      <td>0.000000e+00</td>\n",
       "      <td>0.000000e+00</td>\n",
       "    </tr>\n",
       "    <tr>\n",
       "      <th>50%</th>\n",
       "      <td>20669.000000</td>\n",
       "      <td>0.383856</td>\n",
       "      <td>0.000000e+00</td>\n",
       "      <td>0.000000e+00</td>\n",
       "      <td>99.000000</td>\n",
       "      <td>38.000000</td>\n",
       "      <td>6.000000</td>\n",
       "      <td>2006.000000</td>\n",
       "      <td>0.000000e+00</td>\n",
       "      <td>0.000000e+00</td>\n",
       "    </tr>\n",
       "    <tr>\n",
       "      <th>75%</th>\n",
       "      <td>75610.000000</td>\n",
       "      <td>0.713817</td>\n",
       "      <td>1.500000e+07</td>\n",
       "      <td>2.400000e+07</td>\n",
       "      <td>111.000000</td>\n",
       "      <td>145.750000</td>\n",
       "      <td>6.600000</td>\n",
       "      <td>2011.000000</td>\n",
       "      <td>2.085325e+07</td>\n",
       "      <td>3.369710e+07</td>\n",
       "    </tr>\n",
       "    <tr>\n",
       "      <th>max</th>\n",
       "      <td>417859.000000</td>\n",
       "      <td>32.985763</td>\n",
       "      <td>4.250000e+08</td>\n",
       "      <td>2.781506e+09</td>\n",
       "      <td>900.000000</td>\n",
       "      <td>9767.000000</td>\n",
       "      <td>9.200000</td>\n",
       "      <td>2015.000000</td>\n",
       "      <td>4.250000e+08</td>\n",
       "      <td>2.827124e+09</td>\n",
       "    </tr>\n",
       "  </tbody>\n",
       "</table>\n",
       "</div>"
      ],
      "text/plain": [
       "                  id    popularity        budget       revenue       runtime  \\\n",
       "count   10866.000000  10866.000000  1.086600e+04  1.086600e+04  10866.000000   \n",
       "mean    66064.177434      0.646441  1.462570e+07  3.982332e+07    102.070863   \n",
       "std     92130.136561      1.000185  3.091321e+07  1.170035e+08     31.381405   \n",
       "min         5.000000      0.000065  0.000000e+00  0.000000e+00      0.000000   \n",
       "25%     10596.250000      0.207583  0.000000e+00  0.000000e+00     90.000000   \n",
       "50%     20669.000000      0.383856  0.000000e+00  0.000000e+00     99.000000   \n",
       "75%     75610.000000      0.713817  1.500000e+07  2.400000e+07    111.000000   \n",
       "max    417859.000000     32.985763  4.250000e+08  2.781506e+09    900.000000   \n",
       "\n",
       "         vote_count  vote_average  release_year    budget_adj   revenue_adj  \n",
       "count  10866.000000  10866.000000  10866.000000  1.086600e+04  1.086600e+04  \n",
       "mean     217.389748      5.974922   2001.322658  1.755104e+07  5.136436e+07  \n",
       "std      575.619058      0.935142     12.812941  3.430616e+07  1.446325e+08  \n",
       "min       10.000000      1.500000   1960.000000  0.000000e+00  0.000000e+00  \n",
       "25%       17.000000      5.400000   1995.000000  0.000000e+00  0.000000e+00  \n",
       "50%       38.000000      6.000000   2006.000000  0.000000e+00  0.000000e+00  \n",
       "75%      145.750000      6.600000   2011.000000  2.085325e+07  3.369710e+07  \n",
       "max     9767.000000      9.200000   2015.000000  4.250000e+08  2.827124e+09  "
      ]
     },
     "execution_count": 5,
     "metadata": {},
     "output_type": "execute_result"
    }
   ],
   "source": [
    "data.describe()"
   ]
  },
  {
   "cell_type": "markdown",
   "id": "9b5ce4e8",
   "metadata": {},
   "source": [
    "The data.describe() command gives us a detailed summary statistics of the numerical features of the dataset."
   ]
  },
  {
   "cell_type": "code",
   "execution_count": null,
   "id": "9c7b070e",
   "metadata": {},
   "outputs": [],
   "source": []
  },
  {
   "cell_type": "markdown",
   "id": "0f1d8fb6",
   "metadata": {},
   "source": [
    "### Information on data type and missing values in the dataset"
   ]
  },
  {
   "cell_type": "code",
   "execution_count": 6,
   "id": "d5fbf21b",
   "metadata": {},
   "outputs": [
    {
     "name": "stdout",
     "output_type": "stream",
     "text": [
      "<class 'pandas.core.frame.DataFrame'>\n",
      "RangeIndex: 10866 entries, 0 to 10865\n",
      "Data columns (total 21 columns):\n",
      " #   Column                Non-Null Count  Dtype  \n",
      "---  ------                --------------  -----  \n",
      " 0   id                    10866 non-null  int64  \n",
      " 1   imdb_id               10856 non-null  object \n",
      " 2   popularity            10866 non-null  float64\n",
      " 3   budget                10866 non-null  int64  \n",
      " 4   revenue               10866 non-null  int64  \n",
      " 5   original_title        10866 non-null  object \n",
      " 6   cast                  10790 non-null  object \n",
      " 7   homepage              2936 non-null   object \n",
      " 8   director              10822 non-null  object \n",
      " 9   tagline               8042 non-null   object \n",
      " 10  keywords              9373 non-null   object \n",
      " 11  overview              10862 non-null  object \n",
      " 12  runtime               10866 non-null  int64  \n",
      " 13  genres                10843 non-null  object \n",
      " 14  production_companies  9836 non-null   object \n",
      " 15  release_date          10866 non-null  object \n",
      " 16  vote_count            10866 non-null  int64  \n",
      " 17  vote_average          10866 non-null  float64\n",
      " 18  release_year          10866 non-null  int64  \n",
      " 19  budget_adj            10866 non-null  float64\n",
      " 20  revenue_adj           10866 non-null  float64\n",
      "dtypes: float64(4), int64(6), object(11)\n",
      "memory usage: 1.7+ MB\n"
     ]
    }
   ],
   "source": [
    "data.info()"
   ]
  },
  {
   "cell_type": "markdown",
   "id": "bd750ebf",
   "metadata": {},
   "source": [
    "In this dataset, some of the columns have missing data, and we also observed that the release_date column has a wrong data type."
   ]
  },
  {
   "cell_type": "code",
   "execution_count": null,
   "id": "8b0806f6",
   "metadata": {},
   "outputs": [],
   "source": []
  },
  {
   "cell_type": "markdown",
   "id": "643c3dad",
   "metadata": {},
   "source": [
    "### Check for duplicated movies"
   ]
  },
  {
   "cell_type": "markdown",
   "id": "fd40715b",
   "metadata": {},
   "source": [
    "We want to check for any movie that has duplicate record. "
   ]
  },
  {
   "cell_type": "code",
   "execution_count": 7,
   "id": "79d17544",
   "metadata": {},
   "outputs": [
    {
     "data": {
      "text/plain": [
       "1"
      ]
     },
     "execution_count": 7,
     "metadata": {},
     "output_type": "execute_result"
    }
   ],
   "source": [
    "data.duplicated().sum()"
   ]
  },
  {
   "cell_type": "markdown",
   "id": "7fa9e566",
   "metadata": {},
   "source": [
    "The line of code above shows that we have one duplicate record in the dataset."
   ]
  },
  {
   "cell_type": "code",
   "execution_count": null,
   "id": "4462c1ea",
   "metadata": {},
   "outputs": [],
   "source": []
  },
  {
   "cell_type": "markdown",
   "id": "14b62dec",
   "metadata": {},
   "source": [
    "### Checking for some unique features in some of the columns"
   ]
  },
  {
   "cell_type": "markdown",
   "id": "f49b1fdf",
   "metadata": {},
   "source": [
    "### 1. Unique movie titles"
   ]
  },
  {
   "cell_type": "code",
   "execution_count": 8,
   "id": "5affcca4",
   "metadata": {},
   "outputs": [
    {
     "data": {
      "text/plain": [
       "10571"
      ]
     },
     "execution_count": 8,
     "metadata": {},
     "output_type": "execute_result"
    }
   ],
   "source": [
    "data['original_title'].nunique()"
   ]
  },
  {
   "cell_type": "markdown",
   "id": "5a9f0a08",
   "metadata": {},
   "source": [
    "The above line of code shows that we have 10,571 unique movie titles in the dataset and some of the titles are listed below;"
   ]
  },
  {
   "cell_type": "code",
   "execution_count": 9,
   "id": "0c41a51c",
   "metadata": {},
   "outputs": [
    {
     "data": {
      "text/plain": [
       "array(['Jurassic World', 'Mad Max: Fury Road', 'Insurgent',\n",
       "       'Star Wars: The Force Awakens', 'Furious 7', 'The Revenant',\n",
       "       'Terminator Genisys', 'The Martian', 'Minions', 'Inside Out'],\n",
       "      dtype=object)"
      ]
     },
     "execution_count": 9,
     "metadata": {},
     "output_type": "execute_result"
    }
   ],
   "source": [
    "data['original_title'].unique()[0:10]"
   ]
  },
  {
   "cell_type": "code",
   "execution_count": null,
   "id": "8bc15baa",
   "metadata": {},
   "outputs": [],
   "source": []
  },
  {
   "cell_type": "markdown",
   "id": "e8b868ce",
   "metadata": {},
   "source": [
    "### 2. Unique movie directors list"
   ]
  },
  {
   "cell_type": "code",
   "execution_count": 10,
   "id": "d72114c6",
   "metadata": {},
   "outputs": [
    {
     "data": {
      "text/plain": [
       "5067"
      ]
     },
     "execution_count": 10,
     "metadata": {},
     "output_type": "execute_result"
    }
   ],
   "source": [
    "data['director'].nunique()"
   ]
  },
  {
   "cell_type": "markdown",
   "id": "1f3d2044",
   "metadata": {},
   "source": [
    "The above line of code shows that we have 5,067 unique movie directors in the dataset and some of the directors are listed below;"
   ]
  },
  {
   "cell_type": "code",
   "execution_count": 11,
   "id": "e39a67f1",
   "metadata": {},
   "outputs": [
    {
     "data": {
      "text/plain": [
       "array(['Colin Trevorrow', 'George Miller', 'Robert Schwentke',\n",
       "       'J.J. Abrams', 'James Wan', 'Alejandro GonzÃ¡lez IÃ±Ã¡rritu',\n",
       "       'Alan Taylor', 'Ridley Scott', 'Kyle Balda|Pierre Coffin',\n",
       "       'Pete Docter'], dtype=object)"
      ]
     },
     "execution_count": 11,
     "metadata": {},
     "output_type": "execute_result"
    }
   ],
   "source": [
    "data['director'].unique()[0:10]"
   ]
  },
  {
   "cell_type": "code",
   "execution_count": null,
   "id": "e74acbe9",
   "metadata": {},
   "outputs": [],
   "source": []
  },
  {
   "cell_type": "markdown",
   "id": "20cc05fa",
   "metadata": {},
   "source": [
    "### 3. Unique relase year"
   ]
  },
  {
   "cell_type": "markdown",
   "id": "f768e387",
   "metadata": {},
   "source": [
    "The code below shows the unique movie years movie was released"
   ]
  },
  {
   "cell_type": "code",
   "execution_count": 12,
   "id": "d2db066b",
   "metadata": {},
   "outputs": [
    {
     "data": {
      "text/plain": [
       "array([2015, 2014, 1977, 2009, 2010, 1999, 2001, 2008, 2011, 2002, 1994,\n",
       "       2012, 2003, 1997, 2013, 1985, 2005, 2006, 2004, 1972, 1980, 2007,\n",
       "       1979, 1984, 1983, 1995, 1992, 1981, 1996, 2000, 1982, 1998, 1989,\n",
       "       1991, 1988, 1987, 1968, 1974, 1975, 1962, 1964, 1971, 1990, 1961,\n",
       "       1960, 1976, 1993, 1967, 1963, 1986, 1973, 1970, 1965, 1969, 1978,\n",
       "       1966], dtype=int64)"
      ]
     },
     "execution_count": 12,
     "metadata": {},
     "output_type": "execute_result"
    }
   ],
   "source": [
    "data['release_year'].unique()"
   ]
  },
  {
   "cell_type": "markdown",
   "id": "fe524fcb",
   "metadata": {},
   "source": [
    "The unique release year shows that the earliest movie was release in the year 1960 and the latest movie was released in 2015."
   ]
  },
  {
   "cell_type": "markdown",
   "id": "31362ac5",
   "metadata": {},
   "source": [
    "# Data Cleaning"
   ]
  },
  {
   "cell_type": "markdown",
   "id": "04492733",
   "metadata": {},
   "source": [
    "### Dropping unwanted columns\n",
    "\n",
    "We want to drop columns that are not relevant to our analysis such as id, imdb_id, homepage, and overview."
   ]
  },
  {
   "cell_type": "code",
   "execution_count": 13,
   "id": "acac931a",
   "metadata": {},
   "outputs": [
    {
     "data": {
      "text/html": [
       "<div>\n",
       "<style scoped>\n",
       "    .dataframe tbody tr th:only-of-type {\n",
       "        vertical-align: middle;\n",
       "    }\n",
       "\n",
       "    .dataframe tbody tr th {\n",
       "        vertical-align: top;\n",
       "    }\n",
       "\n",
       "    .dataframe thead th {\n",
       "        text-align: right;\n",
       "    }\n",
       "</style>\n",
       "<table border=\"1\" class=\"dataframe\">\n",
       "  <thead>\n",
       "    <tr style=\"text-align: right;\">\n",
       "      <th></th>\n",
       "      <th>popularity</th>\n",
       "      <th>budget</th>\n",
       "      <th>revenue</th>\n",
       "      <th>original_title</th>\n",
       "      <th>cast</th>\n",
       "      <th>director</th>\n",
       "      <th>tagline</th>\n",
       "      <th>keywords</th>\n",
       "      <th>runtime</th>\n",
       "      <th>genres</th>\n",
       "      <th>production_companies</th>\n",
       "      <th>release_date</th>\n",
       "      <th>vote_count</th>\n",
       "      <th>vote_average</th>\n",
       "      <th>release_year</th>\n",
       "      <th>budget_adj</th>\n",
       "      <th>revenue_adj</th>\n",
       "    </tr>\n",
       "  </thead>\n",
       "  <tbody>\n",
       "    <tr>\n",
       "      <th>0</th>\n",
       "      <td>32.985763</td>\n",
       "      <td>150000000</td>\n",
       "      <td>1513528810</td>\n",
       "      <td>Jurassic World</td>\n",
       "      <td>Chris Pratt|Bryce Dallas Howard|Irrfan Khan|Vi...</td>\n",
       "      <td>Colin Trevorrow</td>\n",
       "      <td>The park is open.</td>\n",
       "      <td>monster|dna|tyrannosaurus rex|velociraptor|island</td>\n",
       "      <td>124</td>\n",
       "      <td>Action|Adventure|Science Fiction|Thriller</td>\n",
       "      <td>Universal Studios|Amblin Entertainment|Legenda...</td>\n",
       "      <td>6/9/2015</td>\n",
       "      <td>5562</td>\n",
       "      <td>6.5</td>\n",
       "      <td>2015</td>\n",
       "      <td>1.379999e+08</td>\n",
       "      <td>1.392446e+09</td>\n",
       "    </tr>\n",
       "    <tr>\n",
       "      <th>1</th>\n",
       "      <td>28.419936</td>\n",
       "      <td>150000000</td>\n",
       "      <td>378436354</td>\n",
       "      <td>Mad Max: Fury Road</td>\n",
       "      <td>Tom Hardy|Charlize Theron|Hugh Keays-Byrne|Nic...</td>\n",
       "      <td>George Miller</td>\n",
       "      <td>What a Lovely Day.</td>\n",
       "      <td>future|chase|post-apocalyptic|dystopia|australia</td>\n",
       "      <td>120</td>\n",
       "      <td>Action|Adventure|Science Fiction|Thriller</td>\n",
       "      <td>Village Roadshow Pictures|Kennedy Miller Produ...</td>\n",
       "      <td>5/13/2015</td>\n",
       "      <td>6185</td>\n",
       "      <td>7.1</td>\n",
       "      <td>2015</td>\n",
       "      <td>1.379999e+08</td>\n",
       "      <td>3.481613e+08</td>\n",
       "    </tr>\n",
       "    <tr>\n",
       "      <th>2</th>\n",
       "      <td>13.112507</td>\n",
       "      <td>110000000</td>\n",
       "      <td>295238201</td>\n",
       "      <td>Insurgent</td>\n",
       "      <td>Shailene Woodley|Theo James|Kate Winslet|Ansel...</td>\n",
       "      <td>Robert Schwentke</td>\n",
       "      <td>One Choice Can Destroy You</td>\n",
       "      <td>based on novel|revolution|dystopia|sequel|dyst...</td>\n",
       "      <td>119</td>\n",
       "      <td>Adventure|Science Fiction|Thriller</td>\n",
       "      <td>Summit Entertainment|Mandeville Films|Red Wago...</td>\n",
       "      <td>3/18/2015</td>\n",
       "      <td>2480</td>\n",
       "      <td>6.3</td>\n",
       "      <td>2015</td>\n",
       "      <td>1.012000e+08</td>\n",
       "      <td>2.716190e+08</td>\n",
       "    </tr>\n",
       "    <tr>\n",
       "      <th>3</th>\n",
       "      <td>11.173104</td>\n",
       "      <td>200000000</td>\n",
       "      <td>2068178225</td>\n",
       "      <td>Star Wars: The Force Awakens</td>\n",
       "      <td>Harrison Ford|Mark Hamill|Carrie Fisher|Adam D...</td>\n",
       "      <td>J.J. Abrams</td>\n",
       "      <td>Every generation has a story.</td>\n",
       "      <td>android|spaceship|jedi|space opera|3d</td>\n",
       "      <td>136</td>\n",
       "      <td>Action|Adventure|Science Fiction|Fantasy</td>\n",
       "      <td>Lucasfilm|Truenorth Productions|Bad Robot</td>\n",
       "      <td>12/15/2015</td>\n",
       "      <td>5292</td>\n",
       "      <td>7.5</td>\n",
       "      <td>2015</td>\n",
       "      <td>1.839999e+08</td>\n",
       "      <td>1.902723e+09</td>\n",
       "    </tr>\n",
       "    <tr>\n",
       "      <th>4</th>\n",
       "      <td>9.335014</td>\n",
       "      <td>190000000</td>\n",
       "      <td>1506249360</td>\n",
       "      <td>Furious 7</td>\n",
       "      <td>Vin Diesel|Paul Walker|Jason Statham|Michelle ...</td>\n",
       "      <td>James Wan</td>\n",
       "      <td>Vengeance Hits Home</td>\n",
       "      <td>car race|speed|revenge|suspense|car</td>\n",
       "      <td>137</td>\n",
       "      <td>Action|Crime|Thriller</td>\n",
       "      <td>Universal Pictures|Original Film|Media Rights ...</td>\n",
       "      <td>4/1/2015</td>\n",
       "      <td>2947</td>\n",
       "      <td>7.3</td>\n",
       "      <td>2015</td>\n",
       "      <td>1.747999e+08</td>\n",
       "      <td>1.385749e+09</td>\n",
       "    </tr>\n",
       "    <tr>\n",
       "      <th>...</th>\n",
       "      <td>...</td>\n",
       "      <td>...</td>\n",
       "      <td>...</td>\n",
       "      <td>...</td>\n",
       "      <td>...</td>\n",
       "      <td>...</td>\n",
       "      <td>...</td>\n",
       "      <td>...</td>\n",
       "      <td>...</td>\n",
       "      <td>...</td>\n",
       "      <td>...</td>\n",
       "      <td>...</td>\n",
       "      <td>...</td>\n",
       "      <td>...</td>\n",
       "      <td>...</td>\n",
       "      <td>...</td>\n",
       "      <td>...</td>\n",
       "    </tr>\n",
       "    <tr>\n",
       "      <th>10861</th>\n",
       "      <td>0.080598</td>\n",
       "      <td>0</td>\n",
       "      <td>0</td>\n",
       "      <td>The Endless Summer</td>\n",
       "      <td>Michael Hynson|Robert August|Lord 'Tally Ho' B...</td>\n",
       "      <td>Bruce Brown</td>\n",
       "      <td>NaN</td>\n",
       "      <td>surfer|surfboard|surfing</td>\n",
       "      <td>95</td>\n",
       "      <td>Documentary</td>\n",
       "      <td>Bruce Brown Films</td>\n",
       "      <td>6/15/1966</td>\n",
       "      <td>11</td>\n",
       "      <td>7.4</td>\n",
       "      <td>1966</td>\n",
       "      <td>0.000000e+00</td>\n",
       "      <td>0.000000e+00</td>\n",
       "    </tr>\n",
       "    <tr>\n",
       "      <th>10862</th>\n",
       "      <td>0.065543</td>\n",
       "      <td>0</td>\n",
       "      <td>0</td>\n",
       "      <td>Grand Prix</td>\n",
       "      <td>James Garner|Eva Marie Saint|Yves Montand|Tosh...</td>\n",
       "      <td>John Frankenheimer</td>\n",
       "      <td>Cinerama sweeps YOU into a drama of speed and ...</td>\n",
       "      <td>car race|racing|formula 1</td>\n",
       "      <td>176</td>\n",
       "      <td>Action|Adventure|Drama</td>\n",
       "      <td>Cherokee Productions|Joel Productions|Douglas ...</td>\n",
       "      <td>12/21/1966</td>\n",
       "      <td>20</td>\n",
       "      <td>5.7</td>\n",
       "      <td>1966</td>\n",
       "      <td>0.000000e+00</td>\n",
       "      <td>0.000000e+00</td>\n",
       "    </tr>\n",
       "    <tr>\n",
       "      <th>10863</th>\n",
       "      <td>0.065141</td>\n",
       "      <td>0</td>\n",
       "      <td>0</td>\n",
       "      <td>Beregis Avtomobilya</td>\n",
       "      <td>Innokentiy Smoktunovskiy|Oleg Efremov|Georgi Z...</td>\n",
       "      <td>Eldar Ryazanov</td>\n",
       "      <td>NaN</td>\n",
       "      <td>car|trolley|stealing car</td>\n",
       "      <td>94</td>\n",
       "      <td>Mystery|Comedy</td>\n",
       "      <td>Mosfilm</td>\n",
       "      <td>1/1/1966</td>\n",
       "      <td>11</td>\n",
       "      <td>6.5</td>\n",
       "      <td>1966</td>\n",
       "      <td>0.000000e+00</td>\n",
       "      <td>0.000000e+00</td>\n",
       "    </tr>\n",
       "    <tr>\n",
       "      <th>10864</th>\n",
       "      <td>0.064317</td>\n",
       "      <td>0</td>\n",
       "      <td>0</td>\n",
       "      <td>What's Up, Tiger Lily?</td>\n",
       "      <td>Tatsuya Mihashi|Akiko Wakabayashi|Mie Hama|Joh...</td>\n",
       "      <td>Woody Allen</td>\n",
       "      <td>WOODY ALLEN STRIKES BACK!</td>\n",
       "      <td>spoof</td>\n",
       "      <td>80</td>\n",
       "      <td>Action|Comedy</td>\n",
       "      <td>Benedict Pictures Corp.</td>\n",
       "      <td>11/2/1966</td>\n",
       "      <td>22</td>\n",
       "      <td>5.4</td>\n",
       "      <td>1966</td>\n",
       "      <td>0.000000e+00</td>\n",
       "      <td>0.000000e+00</td>\n",
       "    </tr>\n",
       "    <tr>\n",
       "      <th>10865</th>\n",
       "      <td>0.035919</td>\n",
       "      <td>19000</td>\n",
       "      <td>0</td>\n",
       "      <td>Manos: The Hands of Fate</td>\n",
       "      <td>Harold P. Warren|Tom Neyman|John Reynolds|Dian...</td>\n",
       "      <td>Harold P. Warren</td>\n",
       "      <td>It's Shocking! It's Beyond Your Imagination!</td>\n",
       "      <td>fire|gun|drive|sacrifice|flashlight</td>\n",
       "      <td>74</td>\n",
       "      <td>Horror</td>\n",
       "      <td>Norm-Iris</td>\n",
       "      <td>11/15/1966</td>\n",
       "      <td>15</td>\n",
       "      <td>1.5</td>\n",
       "      <td>1966</td>\n",
       "      <td>1.276423e+05</td>\n",
       "      <td>0.000000e+00</td>\n",
       "    </tr>\n",
       "  </tbody>\n",
       "</table>\n",
       "<p>10866 rows × 17 columns</p>\n",
       "</div>"
      ],
      "text/plain": [
       "       popularity     budget     revenue                original_title  \\\n",
       "0       32.985763  150000000  1513528810                Jurassic World   \n",
       "1       28.419936  150000000   378436354            Mad Max: Fury Road   \n",
       "2       13.112507  110000000   295238201                     Insurgent   \n",
       "3       11.173104  200000000  2068178225  Star Wars: The Force Awakens   \n",
       "4        9.335014  190000000  1506249360                     Furious 7   \n",
       "...           ...        ...         ...                           ...   \n",
       "10861    0.080598          0           0            The Endless Summer   \n",
       "10862    0.065543          0           0                    Grand Prix   \n",
       "10863    0.065141          0           0           Beregis Avtomobilya   \n",
       "10864    0.064317          0           0        What's Up, Tiger Lily?   \n",
       "10865    0.035919      19000           0      Manos: The Hands of Fate   \n",
       "\n",
       "                                                    cast            director  \\\n",
       "0      Chris Pratt|Bryce Dallas Howard|Irrfan Khan|Vi...     Colin Trevorrow   \n",
       "1      Tom Hardy|Charlize Theron|Hugh Keays-Byrne|Nic...       George Miller   \n",
       "2      Shailene Woodley|Theo James|Kate Winslet|Ansel...    Robert Schwentke   \n",
       "3      Harrison Ford|Mark Hamill|Carrie Fisher|Adam D...         J.J. Abrams   \n",
       "4      Vin Diesel|Paul Walker|Jason Statham|Michelle ...           James Wan   \n",
       "...                                                  ...                 ...   \n",
       "10861  Michael Hynson|Robert August|Lord 'Tally Ho' B...         Bruce Brown   \n",
       "10862  James Garner|Eva Marie Saint|Yves Montand|Tosh...  John Frankenheimer   \n",
       "10863  Innokentiy Smoktunovskiy|Oleg Efremov|Georgi Z...      Eldar Ryazanov   \n",
       "10864  Tatsuya Mihashi|Akiko Wakabayashi|Mie Hama|Joh...         Woody Allen   \n",
       "10865  Harold P. Warren|Tom Neyman|John Reynolds|Dian...    Harold P. Warren   \n",
       "\n",
       "                                                 tagline  \\\n",
       "0                                      The park is open.   \n",
       "1                                     What a Lovely Day.   \n",
       "2                             One Choice Can Destroy You   \n",
       "3                          Every generation has a story.   \n",
       "4                                    Vengeance Hits Home   \n",
       "...                                                  ...   \n",
       "10861                                                NaN   \n",
       "10862  Cinerama sweeps YOU into a drama of speed and ...   \n",
       "10863                                                NaN   \n",
       "10864                          WOODY ALLEN STRIKES BACK!   \n",
       "10865       It's Shocking! It's Beyond Your Imagination!   \n",
       "\n",
       "                                                keywords  runtime  \\\n",
       "0      monster|dna|tyrannosaurus rex|velociraptor|island      124   \n",
       "1       future|chase|post-apocalyptic|dystopia|australia      120   \n",
       "2      based on novel|revolution|dystopia|sequel|dyst...      119   \n",
       "3                  android|spaceship|jedi|space opera|3d      136   \n",
       "4                    car race|speed|revenge|suspense|car      137   \n",
       "...                                                  ...      ...   \n",
       "10861                           surfer|surfboard|surfing       95   \n",
       "10862                          car race|racing|formula 1      176   \n",
       "10863                           car|trolley|stealing car       94   \n",
       "10864                                              spoof       80   \n",
       "10865                fire|gun|drive|sacrifice|flashlight       74   \n",
       "\n",
       "                                          genres  \\\n",
       "0      Action|Adventure|Science Fiction|Thriller   \n",
       "1      Action|Adventure|Science Fiction|Thriller   \n",
       "2             Adventure|Science Fiction|Thriller   \n",
       "3       Action|Adventure|Science Fiction|Fantasy   \n",
       "4                          Action|Crime|Thriller   \n",
       "...                                          ...   \n",
       "10861                                Documentary   \n",
       "10862                     Action|Adventure|Drama   \n",
       "10863                             Mystery|Comedy   \n",
       "10864                              Action|Comedy   \n",
       "10865                                     Horror   \n",
       "\n",
       "                                    production_companies release_date  \\\n",
       "0      Universal Studios|Amblin Entertainment|Legenda...     6/9/2015   \n",
       "1      Village Roadshow Pictures|Kennedy Miller Produ...    5/13/2015   \n",
       "2      Summit Entertainment|Mandeville Films|Red Wago...    3/18/2015   \n",
       "3              Lucasfilm|Truenorth Productions|Bad Robot   12/15/2015   \n",
       "4      Universal Pictures|Original Film|Media Rights ...     4/1/2015   \n",
       "...                                                  ...          ...   \n",
       "10861                                  Bruce Brown Films    6/15/1966   \n",
       "10862  Cherokee Productions|Joel Productions|Douglas ...   12/21/1966   \n",
       "10863                                            Mosfilm     1/1/1966   \n",
       "10864                            Benedict Pictures Corp.    11/2/1966   \n",
       "10865                                          Norm-Iris   11/15/1966   \n",
       "\n",
       "       vote_count  vote_average  release_year    budget_adj   revenue_adj  \n",
       "0            5562           6.5          2015  1.379999e+08  1.392446e+09  \n",
       "1            6185           7.1          2015  1.379999e+08  3.481613e+08  \n",
       "2            2480           6.3          2015  1.012000e+08  2.716190e+08  \n",
       "3            5292           7.5          2015  1.839999e+08  1.902723e+09  \n",
       "4            2947           7.3          2015  1.747999e+08  1.385749e+09  \n",
       "...           ...           ...           ...           ...           ...  \n",
       "10861          11           7.4          1966  0.000000e+00  0.000000e+00  \n",
       "10862          20           5.7          1966  0.000000e+00  0.000000e+00  \n",
       "10863          11           6.5          1966  0.000000e+00  0.000000e+00  \n",
       "10864          22           5.4          1966  0.000000e+00  0.000000e+00  \n",
       "10865          15           1.5          1966  1.276423e+05  0.000000e+00  \n",
       "\n",
       "[10866 rows x 17 columns]"
      ]
     },
     "execution_count": 13,
     "metadata": {},
     "output_type": "execute_result"
    }
   ],
   "source": [
    "data.drop(['id','imdb_id','homepage','overview',], axis = 1, inplace = True)\n",
    "data"
   ]
  },
  {
   "cell_type": "code",
   "execution_count": 14,
   "id": "34d185a3",
   "metadata": {},
   "outputs": [
    {
     "data": {
      "text/plain": [
       "(10866, 17)"
      ]
     },
     "execution_count": 14,
     "metadata": {},
     "output_type": "execute_result"
    }
   ],
   "source": [
    "data.shape"
   ]
  },
  {
   "cell_type": "markdown",
   "id": "80a247ac",
   "metadata": {},
   "source": [
    "The data.shape confirms that we have successfully dropped the four (4) columns."
   ]
  },
  {
   "cell_type": "markdown",
   "id": "d8001e4b",
   "metadata": {},
   "source": [
    "### Missing dataset"
   ]
  },
  {
   "cell_type": "code",
   "execution_count": 15,
   "id": "584af29a",
   "metadata": {},
   "outputs": [
    {
     "data": {
      "text/plain": [
       "popularity                 0\n",
       "budget                     0\n",
       "revenue                    0\n",
       "original_title             0\n",
       "cast                      76\n",
       "director                  44\n",
       "tagline                 2824\n",
       "keywords                1493\n",
       "runtime                    0\n",
       "genres                    23\n",
       "production_companies    1030\n",
       "release_date               0\n",
       "vote_count                 0\n",
       "vote_average               0\n",
       "release_year               0\n",
       "budget_adj                 0\n",
       "revenue_adj                0\n",
       "dtype: int64"
      ]
     },
     "execution_count": 15,
     "metadata": {},
     "output_type": "execute_result"
    }
   ],
   "source": [
    "data.isnull().sum()"
   ]
  },
  {
   "cell_type": "markdown",
   "id": "f569a6fb",
   "metadata": {},
   "source": [
    "### Drop rows with null values "
   ]
  },
  {
   "cell_type": "code",
   "execution_count": 17,
   "id": "1d8125d4",
   "metadata": {},
   "outputs": [],
   "source": [
    "data.dropna(inplace = True)"
   ]
  },
  {
   "cell_type": "markdown",
   "id": "243c97f4",
   "metadata": {},
   "source": [
    "We had to drop all rows with null values because they are of the string data type."
   ]
  },
  {
   "cell_type": "code",
   "execution_count": 18,
   "id": "4e307ac5",
   "metadata": {},
   "outputs": [
    {
     "data": {
      "text/plain": [
       "popularity              0\n",
       "budget                  0\n",
       "revenue                 0\n",
       "original_title          0\n",
       "cast                    0\n",
       "director                0\n",
       "tagline                 0\n",
       "keywords                0\n",
       "runtime                 0\n",
       "genres                  0\n",
       "production_companies    0\n",
       "release_date            0\n",
       "vote_count              0\n",
       "vote_average            0\n",
       "release_year            0\n",
       "budget_adj              0\n",
       "revenue_adj             0\n",
       "dtype: int64"
      ]
     },
     "execution_count": 18,
     "metadata": {},
     "output_type": "execute_result"
    }
   ],
   "source": [
    "data.isnull().sum()"
   ]
  },
  {
   "cell_type": "code",
   "execution_count": 19,
   "id": "5ef23f7c",
   "metadata": {},
   "outputs": [
    {
     "data": {
      "text/plain": [
       "(7032, 17)"
      ]
     },
     "execution_count": 19,
     "metadata": {},
     "output_type": "execute_result"
    }
   ],
   "source": [
    "data.shape"
   ]
  },
  {
   "cell_type": "markdown",
   "id": "a6ea9e7a",
   "metadata": {},
   "source": [
    "We have successfully dropped all rows with missing values."
   ]
  },
  {
   "cell_type": "code",
   "execution_count": null,
   "id": "fcbacdc5",
   "metadata": {},
   "outputs": [],
   "source": []
  },
  {
   "cell_type": "markdown",
   "id": "de415a10",
   "metadata": {},
   "source": [
    "### Drop rows with duplicate records"
   ]
  },
  {
   "cell_type": "code",
   "execution_count": 21,
   "id": "d418e5c9",
   "metadata": {},
   "outputs": [
    {
     "data": {
      "text/plain": [
       "(7031, 17)"
      ]
     },
     "execution_count": 21,
     "metadata": {},
     "output_type": "execute_result"
    }
   ],
   "source": [
    "data.drop_duplicates(inplace = True)\n",
    "data.shape"
   ]
  },
  {
   "cell_type": "markdown",
   "id": "ac15c737",
   "metadata": {},
   "source": [
    "We have successfully dropped the row with duplicate value"
   ]
  },
  {
   "cell_type": "markdown",
   "id": "df299a3f",
   "metadata": {},
   "source": [
    "After the cleaning, we have 7,031 rows and 17 columns."
   ]
  },
  {
   "cell_type": "code",
   "execution_count": null,
   "id": "8db0d9c6",
   "metadata": {},
   "outputs": [],
   "source": []
  },
  {
   "cell_type": "markdown",
   "id": "a3daca1c",
   "metadata": {},
   "source": [
    "# Exploratory Data Analysis"
   ]
  },
  {
   "cell_type": "markdown",
   "id": "4f2764f8",
   "metadata": {},
   "source": [
    "### 1. in what year do we have the highest number of movies released?"
   ]
  },
  {
   "cell_type": "code",
   "execution_count": 23,
   "id": "346121c6",
   "metadata": {},
   "outputs": [
    {
     "data": {
      "text/plain": [
       "release_year\n",
       "2014    384\n",
       "2013    346\n",
       "2015    341\n",
       "2011    306\n",
       "2009    306\n",
       "2012    286\n",
       "2010    279\n",
       "2008    269\n",
       "2007    264\n",
       "2006    260\n",
       "Name: release_year, dtype: int64"
      ]
     },
     "execution_count": 23,
     "metadata": {},
     "output_type": "execute_result"
    }
   ],
   "source": [
    "data_year = data.groupby('release_year').release_year.count().sort_values(ascending = False)[0:10]\n",
    "data_year"
   ]
  },
  {
   "cell_type": "markdown",
   "id": "eaa3dc4c",
   "metadata": {},
   "source": [
    "The above result shows that the year with highest number of movies released is 2014."
   ]
  },
  {
   "cell_type": "markdown",
   "id": "894bb831",
   "metadata": {},
   "source": [
    "### Defining a function for the bar plots"
   ]
  },
  {
   "cell_type": "code",
   "execution_count": 24,
   "id": "158bbea1",
   "metadata": {},
   "outputs": [],
   "source": [
    "def plots(heading, xlabel, ylabel, title):\n",
    "    plt.figure(figsize=(12,8))\n",
    "    heading.plot(kind='bar')\n",
    "    plt.xlabel(xlabel)\n",
    "    plt.ylabel(ylabel)\n",
    "    plt.title(title)\n",
    "    \n",
    "    return plots"
   ]
  },
  {
   "cell_type": "code",
   "execution_count": 25,
   "id": "7928a03d",
   "metadata": {},
   "outputs": [],
   "source": [
    "# calling the function written above\n",
    "heading = data.groupby('release_year').release_year.count().sort_values(ascending = False)[0:10]\n"
   ]
  },
  {
   "cell_type": "code",
   "execution_count": null,
   "id": "755f8260",
   "metadata": {},
   "outputs": [],
   "source": []
  },
  {
   "cell_type": "code",
   "execution_count": 26,
   "id": "23cffb0a",
   "metadata": {},
   "outputs": [
    {
     "data": {
      "image/png": "[encoded data removed]",
      "text/plain": [
       "<Figure size 864x576 with 1 Axes>"
      ]
     },
     "metadata": {
      "needs_background": "light"
     },
     "output_type": "display_data"
    }
   ],
   "source": [
    "plots(heading, 'Year', 'Count', 'TOP 10 YEARS WITH HIHGEST NUMBER OF MOVIES RELEASED');"
   ]
  },
  {
   "cell_type": "markdown",
   "id": "35b7d6ed",
   "metadata": {},
   "source": [
    "                    A bar chart displaying the top 10 movie release_years."
   ]
  },
  {
   "cell_type": "code",
   "execution_count": null,
   "id": "b850a6bf",
   "metadata": {},
   "outputs": [],
   "source": []
  },
  {
   "cell_type": "markdown",
   "id": "2c5a7738",
   "metadata": {},
   "source": [
    "This above list shows the top 10 years with highest number of movies released, year 2014 has the hghest number of movies released with a total of 384 movies released which is also confirmed by the chart below."
   ]
  },
  {
   "cell_type": "code",
   "execution_count": null,
   "id": "118de64a",
   "metadata": {},
   "outputs": [],
   "source": []
  },
  {
   "cell_type": "markdown",
   "id": "773834b0",
   "metadata": {},
   "source": [
    "### 2. List the top 10 movie genres with highest vote count."
   ]
  },
  {
   "cell_type": "code",
   "execution_count": 28,
   "id": "62404020",
   "metadata": {},
   "outputs": [
    {
     "data": {
      "text/plain": [
       "genres\n",
       "Comedy                  421\n",
       "Drama                   411\n",
       "Comedy|Romance          193\n",
       "Horror|Thriller         185\n",
       "Drama|Romance           177\n",
       "Comedy|Drama            177\n",
       "Horror                  162\n",
       "Comedy|Drama|Romance    156\n",
       "Drama|Thriller           96\n",
       "Documentary              90\n",
       "Name: vote_count, dtype: int64"
      ]
     },
     "execution_count": 28,
     "metadata": {},
     "output_type": "execute_result"
    }
   ],
   "source": [
    "top_10_movie_genres = data.groupby('genres').vote_count.count().sort_values(ascending = False).head(10)\n",
    "top_10_movie_genres"
   ]
  },
  {
   "cell_type": "markdown",
   "id": "1f6a0931",
   "metadata": {},
   "source": [
    "### calling the function above to plot the bar chart"
   ]
  },
  {
   "cell_type": "code",
   "execution_count": 29,
   "id": "b3615844",
   "metadata": {},
   "outputs": [
    {
     "data": {
      "image/png": "[encoded data removed]",
      "text/plain": [
       "<Figure size 864x576 with 1 Axes>"
      ]
     },
     "metadata": {
      "needs_background": "light"
     },
     "output_type": "display_data"
    }
   ],
   "source": [
    "\n",
    "heading = data.groupby('genres').vote_count.count().sort_values(ascending = False).head(10)\n",
    "plots(heading, 'Genres', 'Vote Count', 'TOP 10 MOVIE GENRES WITH HIGHEST VOTE COUNT');"
   ]
  },
  {
   "cell_type": "markdown",
   "id": "56bd1cd0",
   "metadata": {},
   "source": [
    "           The bar plot above shows the list the top 10 movie genres with highest vote count"
   ]
  },
  {
   "cell_type": "code",
   "execution_count": null,
   "id": "e594011e",
   "metadata": {},
   "outputs": [],
   "source": []
  },
  {
   "cell_type": "markdown",
   "id": "a0302855",
   "metadata": {},
   "source": [
    "### 3. List the top 10 directors with highest number of movie titles."
   ]
  },
  {
   "cell_type": "code",
   "execution_count": 30,
   "id": "f901ffad",
   "metadata": {},
   "outputs": [
    {
     "data": {
      "text/plain": [
       "director\n",
       "Steven Spielberg     28\n",
       "Clint Eastwood       27\n",
       "Ron Howard           22\n",
       "Ridley Scott         22\n",
       "Martin Scorsese      22\n",
       "Woody Allen          21\n",
       "Steven Soderbergh    20\n",
       "Barry Levinson       19\n",
       "Wes Craven           18\n",
       "Tim Burton           18\n",
       "Name: original_title, dtype: int64"
      ]
     },
     "execution_count": 30,
     "metadata": {},
     "output_type": "execute_result"
    }
   ],
   "source": [
    "director_with_highest_movie_title = data.groupby('director').original_title.count().sort_values(ascending = False).head(10)\n",
    "director_with_highest_movie_title "
   ]
  },
  {
   "cell_type": "markdown",
   "id": "23e57f65",
   "metadata": {},
   "source": [
    "### calling the function above to plot the bar chart"
   ]
  },
  {
   "cell_type": "code",
   "execution_count": 31,
   "id": "8efd916e",
   "metadata": {},
   "outputs": [
    {
     "data": {
      "image/png": "[encoded data removed]",
      "text/plain": [
       "<Figure size 864x576 with 1 Axes>"
      ]
     },
     "metadata": {
      "needs_background": "light"
     },
     "output_type": "display_data"
    }
   ],
   "source": [
    "heading = data.groupby('director').original_title.count().sort_values(ascending = False).head(10)\n",
    "plots(heading, 'Director', 'Original Title Count', 'TOP 10 DIRECTORS WITH HOIGHEST NUMBER OF MOVIE TITLES');"
   ]
  },
  {
   "cell_type": "markdown",
   "id": "1a46c682",
   "metadata": {},
   "source": [
    "The above bar plot shows the top 10 directors with highest unique movie titles"
   ]
  },
  {
   "cell_type": "code",
   "execution_count": null,
   "id": "6a345d47",
   "metadata": {},
   "outputs": [],
   "source": []
  },
  {
   "cell_type": "markdown",
   "id": "b8d475c8",
   "metadata": {},
   "source": [
    "### 4. List the top 10 genres with highest revenue"
   ]
  },
  {
   "cell_type": "code",
   "execution_count": 33,
   "id": "ec1781d1",
   "metadata": {},
   "outputs": [
    {
     "data": {
      "text/plain": [
       "genres\n",
       "Comedy                              19517216485\n",
       "Drama                               14293455952\n",
       "Comedy|Romance                      11127510397\n",
       "Adventure|Fantasy|Action             7597483556\n",
       "Animation|Family                     6530883026\n",
       "Comedy|Drama|Romance                 6460766098\n",
       "Action|Adventure|Science Fiction     6420484308\n",
       "Drama|Romance                        6099062160\n",
       "Adventure|Fantasy|Family             6079516484\n",
       "Adventure|Action|Science Fiction     5256276988\n",
       "Name: revenue, dtype: int64"
      ]
     },
     "execution_count": 33,
     "metadata": {},
     "output_type": "execute_result"
    }
   ],
   "source": [
    "genres_with_highest_revenue = data.groupby('genres').revenue.sum().sort_values(ascending = False).head(10)\n",
    "genres_with_highest_revenue"
   ]
  },
  {
   "cell_type": "markdown",
   "id": "7389cc0e",
   "metadata": {},
   "source": [
    "### calling the function above to plot the bar chart"
   ]
  },
  {
   "cell_type": "code",
   "execution_count": 35,
   "id": "801e2ca0",
   "metadata": {},
   "outputs": [
    {
     "data": {
      "image/png": "[encoded data removed]",
      "text/plain": [
       "<Figure size 864x576 with 1 Axes>"
      ]
     },
     "metadata": {
      "needs_background": "light"
     },
     "output_type": "display_data"
    }
   ],
   "source": [
    "heading = data.groupby('genres').revenue.sum().sort_values(ascending = False).head(10)\n",
    "\n",
    "plots(heading, 'Genres', 'Revenue', 'TOP 10 GENRES WITH HIGHEST REVENUE');"
   ]
  },
  {
   "cell_type": "markdown",
   "id": "ad15502c",
   "metadata": {},
   "source": [
    "       The above table and bar plot shows the top 10 genres with highest generated revenue"
   ]
  },
  {
   "cell_type": "code",
   "execution_count": null,
   "id": "59fb25a5",
   "metadata": {},
   "outputs": [],
   "source": []
  },
  {
   "cell_type": "markdown",
   "id": "9b139b48",
   "metadata": {},
   "source": [
    "### 5. Find the the top 10 movies with highest revenue"
   ]
  },
  {
   "cell_type": "code",
   "execution_count": 36,
   "id": "633f09ce",
   "metadata": {},
   "outputs": [
    {
     "data": {
      "text/plain": [
       "original_title\n",
       "Avatar                                          2781505847\n",
       "Star Wars: The Force Awakens                    2068178225\n",
       "Titanic                                         1845034188\n",
       "The Avengers                                    1568080742\n",
       "Jurassic World                                  1513528810\n",
       "Furious 7                                       1506249360\n",
       "Avengers: Age of Ultron                         1405035767\n",
       "Harry Potter and the Deathly Hallows: Part 2    1327817822\n",
       "Frozen                                          1277284869\n",
       "Iron Man 3                                      1215439994\n",
       "Name: revenue, dtype: int64"
      ]
     },
     "execution_count": 36,
     "metadata": {},
     "output_type": "execute_result"
    }
   ],
   "source": [
    "movie_title_with_highest_revenue = data.groupby('original_title').revenue.sum().sort_values(ascending = False).head(10)\n",
    "movie_title_with_highest_revenue"
   ]
  },
  {
   "cell_type": "markdown",
   "id": "eea87bb1",
   "metadata": {},
   "source": [
    "### calling the function above to plot the bar chart"
   ]
  },
  {
   "cell_type": "code",
   "execution_count": 38,
   "id": "178dc8e2",
   "metadata": {},
   "outputs": [
    {
     "data": {
      "image/png": "[encoded data removed]",
      "text/plain": [
       "<Figure size 864x576 with 1 Axes>"
      ]
     },
     "metadata": {
      "needs_background": "light"
     },
     "output_type": "display_data"
    }
   ],
   "source": [
    "heading = data.groupby('original_title').revenue.sum().sort_values(ascending = False).head(10)\n",
    "\n",
    "plots(heading, 'Original Title', 'Revenue', 'TOP 10 MOVIES WITH HIGHEST REVENUE');"
   ]
  },
  {
   "cell_type": "markdown",
   "id": "08f42c86",
   "metadata": {},
   "source": [
    "The above table and bar plot shows the top 10 movies with highest revenue"
   ]
  },
  {
   "cell_type": "code",
   "execution_count": null,
   "id": "e2e54a8c",
   "metadata": {},
   "outputs": [],
   "source": []
  },
  {
   "cell_type": "markdown",
   "id": "30ee71b5",
   "metadata": {},
   "source": [
    "## Single variable analysis for some features of the dataset"
   ]
  },
  {
   "cell_type": "markdown",
   "id": "897cae31",
   "metadata": {},
   "source": [
    "### 1. Distribution plot for budget"
   ]
  },
  {
   "cell_type": "code",
   "execution_count": 89,
   "id": "9c84fa3e",
   "metadata": {},
   "outputs": [
    {
     "name": "stderr",
     "output_type": "stream",
     "text": [
      "C:\\Users\\HP\\anaconda3\\lib\\site-packages\\seaborn\\distributions.py:2619: FutureWarning: `distplot` is a deprecated function and will be removed in a future version. Please adapt your code to use either `displot` (a figure-level function with similar flexibility) or `kdeplot` (an axes-level function for kernel density plots).\n",
      "  warnings.warn(msg, FutureWarning)\n"
     ]
    },
    {
     "data": {
      "image/png": "[encoded data removed]",
      "text/plain": [
       "<Figure size 432x288 with 1 Axes>"
      ]
     },
     "metadata": {
      "needs_background": "light"
     },
     "output_type": "display_data"
    }
   ],
   "source": [
    "sns.distplot(data['budget'], hist = False).set(title = 'Distplot of Budget');"
   ]
  },
  {
   "cell_type": "markdown",
   "id": "1ceb2253",
   "metadata": {},
   "source": [
    "        Fig. 12: Distplot of Budget"
   ]
  },
  {
   "cell_type": "markdown",
   "id": "32d02bfa",
   "metadata": {},
   "source": [
    "The above plot is right or positively skewed. It informs us that all values in the budget column are positive."
   ]
  },
  {
   "cell_type": "code",
   "execution_count": null,
   "id": "3827fa33",
   "metadata": {},
   "outputs": [],
   "source": []
  },
  {
   "cell_type": "markdown",
   "id": "fe08764a",
   "metadata": {},
   "source": [
    "### 2. Distribution plot for revenue"
   ]
  },
  {
   "cell_type": "code",
   "execution_count": 74,
   "id": "dd544383",
   "metadata": {},
   "outputs": [
    {
     "name": "stderr",
     "output_type": "stream",
     "text": [
      "C:\\Users\\HP\\anaconda3\\lib\\site-packages\\seaborn\\distributions.py:2619: FutureWarning: `distplot` is a deprecated function and will be removed in a future version. Please adapt your code to use either `displot` (a figure-level function with similar flexibility) or `kdeplot` (an axes-level function for kernel density plots).\n",
      "  warnings.warn(msg, FutureWarning)\n"
     ]
    },
    {
     "data": {
      "image/png": "[encoded data removed]",
      "text/plain": [
       "<Figure size 432x288 with 1 Axes>"
      ]
     },
     "metadata": {
      "needs_background": "light"
     },
     "output_type": "display_data"
    }
   ],
   "source": [
    "sns.distplot(data['revenue'], hist = False).set(title = 'Distplot of Revenue');"
   ]
  },
  {
   "cell_type": "markdown",
   "id": "5b53ecc0",
   "metadata": {},
   "source": [
    "The above plot is right or positively skewed. It informs us that all values in the revenue column are positive."
   ]
  },
  {
   "cell_type": "markdown",
   "id": "fb5b6a3c",
   "metadata": {},
   "source": [
    "### 3. Distribution plot for Vote Count"
   ]
  },
  {
   "cell_type": "code",
   "execution_count": 115,
   "id": "084be6bc",
   "metadata": {},
   "outputs": [
    {
     "name": "stderr",
     "output_type": "stream",
     "text": [
      "C:\\Users\\HP\\anaconda3\\lib\\site-packages\\seaborn\\distributions.py:2619: FutureWarning: `distplot` is a deprecated function and will be removed in a future version. Please adapt your code to use either `displot` (a figure-level function with similar flexibility) or `kdeplot` (an axes-level function for kernel density plots).\n",
      "  warnings.warn(msg, FutureWarning)\n"
     ]
    },
    {
     "data": {
      "image/png": "[encoded data removed]",
      "text/plain": [
       "<Figure size 432x288 with 1 Axes>"
      ]
     },
     "metadata": {
      "needs_background": "light"
     },
     "output_type": "display_data"
    }
   ],
   "source": [
    "sns.distplot(data['vote_count'], hist = False).set(title = 'Vote Count');"
   ]
  },
  {
   "cell_type": "markdown",
   "id": "c1c097c1",
   "metadata": {},
   "source": [
    "The above plot shows that the dataset in the vote count column is positively skewed and that it also contain outliers."
   ]
  },
  {
   "cell_type": "code",
   "execution_count": null,
   "id": "3a416d46",
   "metadata": {},
   "outputs": [],
   "source": []
  },
  {
   "cell_type": "markdown",
   "id": "6ac5f8bb",
   "metadata": {},
   "source": [
    "### 4. Distribution plot of Runtime"
   ]
  },
  {
   "cell_type": "code",
   "execution_count": 101,
   "id": "39d999ea",
   "metadata": {},
   "outputs": [
    {
     "name": "stderr",
     "output_type": "stream",
     "text": [
      "C:\\Users\\HP\\anaconda3\\lib\\site-packages\\seaborn\\distributions.py:2619: FutureWarning: `distplot` is a deprecated function and will be removed in a future version. Please adapt your code to use either `displot` (a figure-level function with similar flexibility) or `kdeplot` (an axes-level function for kernel density plots).\n",
      "  warnings.warn(msg, FutureWarning)\n"
     ]
    },
    {
     "data": {
      "image/png": "[encoded data removed]",
      "text/plain": [
       "<Figure size 432x288 with 1 Axes>"
      ]
     },
     "metadata": {
      "needs_background": "light"
     },
     "output_type": "display_data"
    }
   ],
   "source": [
    "sns.distplot(data['runtime'], hist = False).set(title = 'Distplot of Runtime');"
   ]
  },
  {
   "cell_type": "code",
   "execution_count": 85,
   "id": "799643bd",
   "metadata": {},
   "outputs": [
    {
     "data": {
      "text/plain": [
       "104.83999431090884"
      ]
     },
     "execution_count": 85,
     "metadata": {},
     "output_type": "execute_result"
    }
   ],
   "source": [
    "data['runtime'].mean()"
   ]
  },
  {
   "cell_type": "markdown",
   "id": "42954ad7",
   "metadata": {},
   "source": [
    "The plot above shows the distplot of the runtime feature. The plot is a rght skewed plot, it shows that we have most of our values at the right hand side of the mean value. It also shows that the mean runtime is somewhere around 100 which was also confirmed by the `data['mean'].mean()` line of code above. \n",
    "Furthermore, it was discovered that the runtime value has outliers"
   ]
  },
  {
   "cell_type": "code",
   "execution_count": 114,
   "id": "876197f2",
   "metadata": {},
   "outputs": [
    {
     "data": {
      "text/plain": [
       "705"
      ]
     },
     "execution_count": 114,
     "metadata": {},
     "output_type": "execute_result"
    }
   ],
   "source": [
    "data['runtime'].max()"
   ]
  },
  {
   "cell_type": "markdown",
   "id": "881183ef",
   "metadata": {},
   "source": [
    "### Histogram of the Release Year"
   ]
  },
  {
   "cell_type": "code",
   "execution_count": 106,
   "id": "926a8b55",
   "metadata": {},
   "outputs": [
    {
     "data": {
      "image/png": "[encoded data removed]",
      "text/plain": [
       "<Figure size 432x288 with 1 Axes>"
      ]
     },
     "metadata": {
      "needs_background": "light"
     },
     "output_type": "display_data"
    }
   ],
   "source": [
    "data['release_year'].hist().set(title = 'Histogram of Release_Year');"
   ]
  },
  {
   "cell_type": "markdown",
   "id": "c1767c0c",
   "metadata": {},
   "source": [
    "The plot above shows that the movie industry has enjoyed a steady increase in number of movies released per over the years."
   ]
  },
  {
   "cell_type": "code",
   "execution_count": null,
   "id": "e7685f93",
   "metadata": {},
   "outputs": [],
   "source": []
  },
  {
   "cell_type": "markdown",
   "id": "284c6992",
   "metadata": {},
   "source": [
    "### Correlation matrix"
   ]
  },
  {
   "cell_type": "code",
   "execution_count": 39,
   "id": "2b802620",
   "metadata": {},
   "outputs": [
    {
     "data": {
      "image/png": "[encoded data removed]",
      "text/plain": [
       "<Figure size 1080x720 with 2 Axes>"
      ]
     },
     "metadata": {
      "needs_background": "light"
     },
     "output_type": "display_data"
    }
   ],
   "source": [
    "corr = data.corr()\n",
    "plt.figure(figsize = (15,10))\n",
    "sns.heatmap(corr, annot=True, cmap = 'BuPu');"
   ]
  },
  {
   "cell_type": "markdown",
   "id": "ffce2e06",
   "metadata": {},
   "source": [
    "The plot above shows the correlation matrix of the dataset. This shows the relationship between the numerical features of the dataset."
   ]
  },
  {
   "cell_type": "markdown",
   "id": "788726f5",
   "metadata": {},
   "source": [
    "From the correlation matrix table above, we observed the following relationships with the revenue feature;\n",
    "1. The correlation between the buudget and revenue is 0.73 which shows a strong correlation between the two dataset features\n",
    "2. The correlation between the vote count and revenue is 0.78 which also shows a strong correlation between the two dataset features.\n",
    "3. The correlation between the release year and revenue is 0.13. This shows a weak correlation between the two dataset features.\n",
    "4. The correlation between popularity and revenue is 0.65 which shows a positive correlation between the two dataset features.\n",
    "5. The correlation between the runtime and revenue is 0.22 which also shows a weak correlation between the two dataset features.\n",
    "\n"
   ]
  },
  {
   "cell_type": "code",
   "execution_count": null,
   "id": "908ff0e4",
   "metadata": {},
   "outputs": [],
   "source": []
  },
  {
   "cell_type": "markdown",
   "id": "ec41faee",
   "metadata": {},
   "source": [
    "# Conclussion"
   ]
  },
  {
   "cell_type": "markdown",
   "id": "a54d0f3d",
   "metadata": {},
   "source": [
    "### Results\n",
    "The purpose of the project work is to describe the trends of some of the dataset features, and also examine the relationship between the revenue feature of the dataset and other features such as budget, vote count, release year, popularity and runtime.\n",
    "\n",
    "The project uncovered some trends in the datasets features. The year with highest number of movies released is 2014, the genre with the highest vote count is Comedy. Steven Spielberg is the director with- highest number of movie titles released, he has 28 movie titles. We also uncovered that Comedy is the genre which recorded the highest revenue generated, comedy recorded USD 19,517,216,485. Further more, the movie title with the highest revenue generated is Avatar with USD 2,781,505,847. \n",
    "\n",
    "This project also examained and established that there is a positive relationship between revenue and some features such as budget, vote count and popularity.\n",
    "\n",
    "Further studies can be done to ascertain the effect of each features on the revenue generated."
   ]
  },
  {
   "cell_type": "markdown",
   "id": "4b08691f",
   "metadata": {},
   "source": [
    "### Limitation\n",
    "\n",
    "Two columns (Casts and Genres) of the datasets contain multiple values separated by pipe which made it impossible to analyse the individual casts and genres."
   ]
  },
  {
   "cell_type": "code",
   "execution_count": null,
   "id": "90998a42",
   "metadata": {},
   "outputs": [],
   "source": []
  }
 ],
 "metadata": {
  "kernelspec": {
   "display_name": "Python 3 (ipykernel)",
   "language": "python",
   "name": "python3"
  },
  "language_info": {
   "codemirror_mode": {
    "name": "ipython",
    "version": 3
   },
   "file_extension": ".py",
   "mimetype": "text/x-python",
   "name": "python",
   "nbconvert_exporter": "python",
   "pygments_lexer": "ipython3",
   "version": "3.9.12"
  }
 },
 "nbformat": 4,
 "nbformat_minor": 5
}
